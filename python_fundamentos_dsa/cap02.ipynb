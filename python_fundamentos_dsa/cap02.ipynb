{
 "cells": [
  {
   "cell_type": "markdown",
   "id": "84b89df7-cc9d-40d3-93b2-1e9c2347b61a",
   "metadata": {},
   "source": [
    "# **Variáveis, Tipos e Estruturas de Dados**"
   ]
  },
  {
   "cell_type": "markdown",
   "id": "ef8b3df9-1638-44d6-9f41-56fbda5bdbe6",
   "metadata": {},
   "source": [
    "**Funções Built-in em**: https://docs.python.org/3/library/"
   ]
  },
  {
   "cell_type": "markdown",
   "id": "80c5d4df-6be4-4a40-80e3-c0eb9431c8be",
   "metadata": {
    "jp-MarkdownHeadingCollapsed": true,
    "tags": []
   },
   "source": [
    "## 1 - Números e Operações Matemáticas"
   ]
  },
  {
   "cell_type": "markdown",
   "id": "bea22348-26ad-4606-96b3-5981b8b1bf12",
   "metadata": {},
   "source": [
    "| Operador | Significado |\n",
    "|----------|-------------|\n",
    "|+         |soma         | \n",
    "|-         |subtracao    |\n",
    "|*         |multiplicacao|\n",
    "|/         |divisao      |\n",
    "|//        |divisao_inteira| \n",
    "|%         |modulo        | \n",
    "|**        |potencia      | \n",
    "|int()     | converte para inteiro| \n",
    "|float()   |converte para float| \n"
   ]
  },
  {
   "cell_type": "code",
   "execution_count": 1,
   "id": "3560b58b-8436-4fea-a764-bc2a6671db45",
   "metadata": {},
   "outputs": [
    {
     "name": "stdout",
     "output_type": "stream",
     "text": [
      "12\n",
      "8\n",
      "20\n",
      "5.0\n",
      "5\n",
      "0\n",
      "100\n",
      "2\n",
      "10.0\n"
     ]
    }
   ],
   "source": [
    "n1 = 10\n",
    "n2 = 2\n",
    "n3 = 2.5\n",
    "\n",
    "soma = n1 + n2\n",
    "subtracao = n1 - n2\n",
    "multiplicacao = n1 * n2\n",
    "divisao = n1 / n2\n",
    "divisao_inteira = n1 // n2\n",
    "modulo = n1 % n2\n",
    "potencia = n1 ** n2\n",
    "inteiro = int(n3)\n",
    "nfloat = float(n1)\n",
    "\n",
    "print(soma) # 12\n",
    "print(subtracao) # 8\n",
    "print(multiplicacao)  # 20\n",
    "print(divisao) # 5.0\n",
    "print(divisao_inteira) # 5\n",
    "print(modulo)  # 0\n",
    "print(potencia) # 100\n",
    "print(inteiro) # 2\n",
    "print(nfloat) # 10.0"
   ]
  },
  {
   "cell_type": "markdown",
   "id": "3dcb5a4a-d97b-4a6b-8b86-1603867fecb7",
   "metadata": {
    "jp-MarkdownHeadingCollapsed": true,
    "tags": []
   },
   "source": [
    "## 2 - Variáveis, Operadores e Operações"
   ]
  },
  {
   "cell_type": "markdown",
   "id": "13637181-d981-4fb3-a524-108f947eecbb",
   "metadata": {},
   "source": [
    "| Operador | Significado |\n",
    "|----------|-------------|\n",
    "|=         |atribruição  |\n",
    "|+=        |soma         | \n",
    "|-=        |subtracao    |\n",
    "|*         |multiplicacao|\n",
    "|/         |divisao      |\n",
    "|%         |modulo       | \n",
    "|**        |potencia     |\n",
    "|//        |divisao_inteira| "
   ]
  },
  {
   "cell_type": "code",
   "execution_count": 2,
   "id": "7d7f3bae-7449-413d-b8ac-c8b589ac2e90",
   "metadata": {},
   "outputs": [
    {
     "name": "stdout",
     "output_type": "stream",
     "text": [
      "10\n",
      "20\n",
      "10\n",
      "100\n",
      "10.0\n",
      "0.0\n",
      "1000\n",
      "100\n"
     ]
    }
   ],
   "source": [
    "n0 = 10\n",
    "n = 10\n",
    "print(n) # 10 \n",
    "\n",
    "n += n0 \n",
    "print(n) # 20  n = 10+10\n",
    "\n",
    "n -= n0 \n",
    "print(10) # 10  n = 20-10\n",
    "\n",
    "n *= n0\n",
    "print(n) # 100 n = 10*10\n",
    "\n",
    "n /= n0 \n",
    "print(n) # 10.0  n = 100/10\n",
    "\n",
    "n %= n0 \n",
    "print(n) # 0.0  n = 10 % 10\n",
    "\n",
    "n = 10\n",
    "\n",
    "n **= 3 \n",
    "print(n) # 1000  n = 10**3\n",
    "\n",
    "n //= n0 \n",
    "print(n) # 100   n = 1000//10"
   ]
  },
  {
   "cell_type": "markdown",
   "id": "3d9e3d30-c04c-471a-a90a-ba910dce779c",
   "metadata": {
    "tags": []
   },
   "source": [
    "## 3 - Strings e Indexação"
   ]
  },
  {
   "cell_type": "markdown",
   "id": "8ff9ade5-245e-4d4f-8f53-9810af546ef5",
   "metadata": {},
   "source": [
    " Srings são utilizadas para gravar informações em formato textual. Uma string é uma sequência imutável de caractere(s) que permitem o acesso e manipulação atráves dos índices de cada um deles.\n",
    " O primeiro elemento tem um índice 0, o segundo tem índice 1 e assim por diante. "
   ]
  },
  {
   "cell_type": "code",
   "execution_count": 3,
   "id": "572d605a-d97b-42bd-8d8a-04b5b96b4ada",
   "metadata": {},
   "outputs": [
    {
     "name": "stdout",
     "output_type": "stream",
     "text": [
      "R\n",
      "ê\n",
      "a\n"
     ]
    }
   ],
   "source": [
    "# Exemplo indexado\n",
    "\n",
    "text = 'Resiliência'\n",
    "print(text[0])\n",
    "print(text[6])\n",
    "print(text[10])"
   ]
  },
  {
   "cell_type": "markdown",
   "id": "23bb484e-f885-4203-b4ac-72de0cc0f70c",
   "metadata": {},
   "source": [
    "Podemos ainda, selecionar multiplos elementos através do slicing. Para isso, especificamos um range utilizando dois pontos no formato **text[start:end]**.  Lembrando que *start* inclui o índice de interesse e *end* é excludente, ou seja, retornatodas as posições imediatamente anteriores ao índice em questão."
   ]
  },
  {
   "cell_type": "code",
   "execution_count": 4,
   "id": "8e68bad0-7550-4581-ad3c-39b8c07b97c3",
   "metadata": {},
   "outputs": [
    {
     "data": {
      "text/plain": [
       "'Resiliência'"
      ]
     },
     "execution_count": 4,
     "metadata": {},
     "output_type": "execute_result"
    }
   ],
   "source": [
    "# Exemplo: Retornar todos os elementos\n",
    "\n",
    "text[:]"
   ]
  },
  {
   "cell_type": "code",
   "execution_count": 5,
   "id": "70731eb4-973f-4a6c-bdbb-2fff81e3cc38",
   "metadata": {},
   "outputs": [
    {
     "data": {
      "text/plain": [
       "'Res'"
      ]
     },
     "execution_count": 5,
     "metadata": {},
     "output_type": "execute_result"
    }
   ],
   "source": [
    "# Exemplo: Retornar todos os elementos até o índice 3 \n",
    "\n",
    "text[ :3]"
   ]
  },
  {
   "cell_type": "markdown",
   "id": "623710a9-17d2-4514-8ebc-77ba4f013012",
   "metadata": {},
   "source": []
  },
  {
   "cell_type": "code",
   "execution_count": 6,
   "id": "b30c5d74-9c0f-48e3-a42e-01a12d793f2f",
   "metadata": {},
   "outputs": [
    {
     "data": {
      "text/plain": [
       "'siliência'"
      ]
     },
     "execution_count": 6,
     "metadata": {},
     "output_type": "execute_result"
    }
   ],
   "source": [
    "# Exemplo: Retornar todos os elementos a partir do índice 2\n",
    "\n",
    "text[2: ]"
   ]
  },
  {
   "cell_type": "code",
   "execution_count": 7,
   "id": "277a01bd-b30f-4700-a0f5-bb657b33b6a0",
   "metadata": {},
   "outputs": [
    {
     "data": {
      "text/plain": [
       "'a'"
      ]
     },
     "execution_count": 7,
     "metadata": {},
     "output_type": "execute_result"
    }
   ],
   "source": [
    "# Exemplo: Retornar a última posição\n",
    "\n",
    "text[-1]"
   ]
  },
  {
   "cell_type": "code",
   "execution_count": 8,
   "id": "2b91dfe1-729c-41eb-a1e3-14c760f30cb4",
   "metadata": {},
   "outputs": [
    {
     "data": {
      "text/plain": [
       "'Resiliênci'"
      ]
     },
     "execution_count": 8,
     "metadata": {},
     "output_type": "execute_result"
    }
   ],
   "source": [
    "# Exemplo: Retornar tudo, exceto a última posição\n",
    "\n",
    "text[ :-1]"
   ]
  },
  {
   "cell_type": "markdown",
   "id": "e6f04851-30d3-471e-9705-d1bb30af18d8",
   "metadata": {},
   "source": [
    "Caso necessário - *em análise de dados por exemplo quando utilizamos Pandas para retornar grupos de linhas/colunas/linhas e colunas de um dataset* - podemos ser mais detalhistas ao especificar a frequência em que os elementos são retornados."
   ]
  },
  {
   "cell_type": "code",
   "execution_count": 9,
   "id": "53580a2e-5dd1-47aa-ae17-59a424f6df81",
   "metadata": {},
   "outputs": [
    {
     "data": {
      "text/plain": [
       "'Rslêca'"
      ]
     },
     "execution_count": 9,
     "metadata": {},
     "output_type": "execute_result"
    }
   ],
   "source": [
    "# Exemplo: Retornar todos os elementosd a cada 2 posições\n",
    "\n",
    "text[ : :2]"
   ]
  },
  {
   "cell_type": "code",
   "execution_count": 10,
   "id": "fd667d32-fc94-427f-a685-86f34e4ccb67",
   "metadata": {},
   "outputs": [
    {
     "data": {
      "text/plain": [
       "'aicnêiliseR'"
      ]
     },
     "execution_count": 10,
     "metadata": {},
     "output_type": "execute_result"
    }
   ],
   "source": [
    "# Exemplo: Retornar todos os elementos de forma invertida\n",
    "\n",
    "text[ : :-1]"
   ]
  },
  {
   "cell_type": "markdown",
   "id": "a256d927-ba90-42d4-9599-9921e8b8bf19",
   "metadata": {},
   "source": [
    " Strings são imutáveis, ou seja, não conseguimos substituir ou alterar seus elementos.\n",
    "\n",
    " **Como Python é uma linguagem orientada a objetos, as estruturas de dados possuem atributos (propriedades) e funções sendo acessadas usando ponto.**"
   ]
  },
  {
   "cell_type": "markdown",
   "id": "a0e7ae43-6072-4e07-8283-ba876d7f3ea5",
   "metadata": {},
   "source": [
    "### 3.1 - Funções Built-in"
   ]
  },
  {
   "cell_type": "code",
   "execution_count": 11,
   "id": "1ad7bc4f-a6dd-4671-8352-e55ad43e98ad",
   "metadata": {},
   "outputs": [
    {
     "data": {
      "text/plain": [
       "'RESILIÊNCIA'"
      ]
     },
     "execution_count": 11,
     "metadata": {},
     "output_type": "execute_result"
    }
   ],
   "source": [
    "# Upper Case\n",
    "text.upper()"
   ]
  },
  {
   "cell_type": "code",
   "execution_count": 12,
   "id": "fee87764-6566-495f-a392-3e4ff8938396",
   "metadata": {},
   "outputs": [
    {
     "data": {
      "text/plain": [
       "'resiliência'"
      ]
     },
     "execution_count": 12,
     "metadata": {},
     "output_type": "execute_result"
    }
   ],
   "source": [
    "# Lower Case\n",
    "text.lower()"
   ]
  },
  {
   "cell_type": "code",
   "execution_count": 13,
   "id": "ba7bfb6a-8a90-46c7-a74f-47d7bd1619cf",
   "metadata": {},
   "outputs": [
    {
     "data": {
      "text/plain": [
       "['mostre', 'seu', 'trabalho']"
      ]
     },
     "execution_count": 13,
     "metadata": {},
     "output_type": "execute_result"
    }
   ],
   "source": [
    "# Dividir por espaços em branco\n",
    "text2 = \"mostre seu trabalho \"\n",
    "text2.split()"
   ]
  },
  {
   "cell_type": "code",
   "execution_count": 14,
   "id": "342cfeb3-0c6f-4b7a-b6d6-0ab7f0ddc869",
   "metadata": {},
   "outputs": [
    {
     "data": {
      "text/plain": [
       "'Mostre seu trabalho '"
      ]
     },
     "execution_count": 14,
     "metadata": {},
     "output_type": "execute_result"
    }
   ],
   "source": [
    "# Primeira letra maiúscula\n",
    "text2.capitalize()"
   ]
  },
  {
   "cell_type": "code",
   "execution_count": 15,
   "id": "b6551691-7b08-44f4-840b-136488d37d10",
   "metadata": {},
   "outputs": [
    {
     "data": {
      "text/plain": [
       "2"
      ]
     },
     "execution_count": 15,
     "metadata": {},
     "output_type": "execute_result"
    }
   ],
   "source": [
    "# Contar quantas letras \"a\" possui\n",
    "text2.count(\"a\")"
   ]
  },
  {
   "cell_type": "code",
   "execution_count": 16,
   "id": "07c4aea7-506c-4d22-98ab-4b876d86d431",
   "metadata": {},
   "outputs": [
    {
     "data": {
      "text/plain": [
       "5"
      ]
     },
     "execution_count": 16,
     "metadata": {},
     "output_type": "execute_result"
    }
   ],
   "source": [
    "# Em qual índice encontra-se a letra \"e\"\n",
    "text2.find(\"e\")"
   ]
  },
  {
   "cell_type": "code",
   "execution_count": 17,
   "id": "b15f8b24-f794-4aec-8ee4-b070498f5f7c",
   "metadata": {},
   "outputs": [
    {
     "data": {
      "text/plain": [
       "True"
      ]
     },
     "execution_count": 17,
     "metadata": {},
     "output_type": "execute_result"
    }
   ],
   "source": [
    "# Verificar se a string é minúscula\n",
    "\n",
    "text2.islower()"
   ]
  },
  {
   "cell_type": "code",
   "execution_count": 18,
   "id": "dae5df11-3986-4915-b58b-9950c1fef74b",
   "metadata": {},
   "outputs": [
    {
     "data": {
      "text/plain": [
       "False"
      ]
     },
     "execution_count": 18,
     "metadata": {},
     "output_type": "execute_result"
    }
   ],
   "source": [
    "# Verificar se a string contém apenas espaços\n",
    "\n",
    "text2.isspace()"
   ]
  },
  {
   "cell_type": "code",
   "execution_count": 19,
   "id": "548839ce-8a95-4c9e-b478-9cbdf9e5093d",
   "metadata": {},
   "outputs": [
    {
     "data": {
      "text/plain": [
       "'mostre seu trabalho'"
      ]
     },
     "execution_count": 19,
     "metadata": {},
     "output_type": "execute_result"
    }
   ],
   "source": [
    "# Remover espaço em branco do início ou fim\n",
    "text2.strip()"
   ]
  },
  {
   "cell_type": "code",
   "execution_count": 20,
   "id": "014b2628-fd21-4220-9566-88d98db66598",
   "metadata": {},
   "outputs": [
    {
     "data": {
      "text/plain": [
       "'fostre seu trabalho '"
      ]
     },
     "execution_count": 20,
     "metadata": {},
     "output_type": "execute_result"
    }
   ],
   "source": [
    "# Substiuir um elemento por outro\n",
    "text2.replace(\"m\", \"f\")"
   ]
  },
  {
   "cell_type": "markdown",
   "id": "805bcbdb-42a1-422a-b85a-f913e298f1af",
   "metadata": {
    "tags": []
   },
   "source": [
    "## 4 - Listas"
   ]
  },
  {
   "cell_type": "markdown",
   "id": "4b4ed187-424b-4a7a-be64-d775760da8fd",
   "metadata": {},
   "source": [
    "As listas fazem parte de um dos 4 tipos de dados utilizados para armazendamento de dados, sendo as outras 3: tuplas, set e dicionários. Elas são usadas para armazenar valores ou elementos de quaisquer tipos de dados em uma única variável. Elas são mutáveis, permitindo adicionar, remover e alterar seus itens, ao contrário das strings vista na seção anterior.\n",
    " Sua denotação é feita com *[]*, onde seus valores são separados por aspas simples ou duplas:"
   ]
  },
  {
   "cell_type": "markdown",
   "id": "0d60522b-ba97-46f4-aee5-320a6ccf06c9",
   "metadata": {},
   "source": [
    "Criar listas vazias pode ser útil quando estamos lidando com algoritmos de Machine Learning, que por sua vez, à medida que o treinamento é feito, armazena-se nessas listas."
   ]
  },
  {
   "cell_type": "code",
   "execution_count": 56,
   "id": "f8f102ce-8266-4152-b6b0-31ba5615308f",
   "metadata": {},
   "outputs": [
    {
     "data": {
      "text/plain": [
       "[]"
      ]
     },
     "execution_count": 56,
     "metadata": {},
     "output_type": "execute_result"
    }
   ],
   "source": [
    "compras1 = []\n",
    "compras2 = []\n",
    "\n",
    "compras2"
   ]
  },
  {
   "cell_type": "code",
   "execution_count": 57,
   "id": "161f72e7-6b24-49a9-bd3c-b8cd10f9cdd6",
   "metadata": {},
   "outputs": [
    {
     "name": "stdout",
     "output_type": "stream",
     "text": [
      "['Abacaxi, Mamão, Laranja, Maçã']\n"
     ]
    }
   ],
   "source": [
    "# Exemplo: Criar uma lista\n",
    "compras1 = [\"Abacaxi, Mamão, Laranja, Maçã\"]\n",
    "print(compras1)"
   ]
  },
  {
   "cell_type": "code",
   "execution_count": 58,
   "id": "cf0578b3-fabe-494d-ba4f-e9fd2f3223bd",
   "metadata": {},
   "outputs": [
    {
     "name": "stdout",
     "output_type": "stream",
     "text": [
      "['Abacaxi', 'Mamão', 'Laranja', 'Maçã']\n"
     ]
    }
   ],
   "source": [
    "compras2 = [\"Abacaxi\", \"Mamão\", \"Laranja\", \"Maçã\"]\n",
    "print(compras2)"
   ]
  },
  {
   "cell_type": "markdown",
   "id": "8f3ae94f-9cc6-4a44-986e-619897b90e7a",
   "metadata": {},
   "source": [
    "Perceba que há diferença entre compras1 e compras2, pois na primeira, considera-se apenas uma string armazenada na variável, enquanto na segunda considera-se separadamente.\n",
    "\n",
    "Abaixo, substitui-se o primeiro elemento da lista por uma única string, logo, compras 1 terá um único elemento, e compras2 ainda conterá 4."
   ]
  },
  {
   "cell_type": "code",
   "execution_count": 59,
   "id": "5e783efd-192a-4813-ae8a-4f6e29a8f9cc",
   "metadata": {},
   "outputs": [
    {
     "data": {
      "text/plain": [
       "['Pêra']"
      ]
     },
     "execution_count": 59,
     "metadata": {},
     "output_type": "execute_result"
    }
   ],
   "source": [
    "compras1[0] = \"Pêra\"\n",
    "compras1"
   ]
  },
  {
   "cell_type": "code",
   "execution_count": 60,
   "id": "cd309edb-6952-4479-979b-96d2362f770e",
   "metadata": {},
   "outputs": [
    {
     "data": {
      "text/plain": [
       "['Pêra', 'Mamão', 'Laranja', 'Maçã']"
      ]
     },
     "execution_count": 60,
     "metadata": {},
     "output_type": "execute_result"
    }
   ],
   "source": [
    "compras2[0] = \"Pêra\"\n",
    "compras2"
   ]
  },
  {
   "cell_type": "markdown",
   "id": "964c50fe-ce3a-4827-a0fb-39d031f5f6af",
   "metadata": {},
   "source": [
    "### 4.1 Deletando itens"
   ]
  },
  {
   "cell_type": "code",
   "execution_count": 61,
   "id": "501171e2-60e4-4600-a647-811ca0b2762b",
   "metadata": {},
   "outputs": [
    {
     "data": {
      "text/plain": [
       "['Pêra', 'Mamão', 'Laranja', 'Maçã']"
      ]
     },
     "execution_count": 61,
     "metadata": {},
     "output_type": "execute_result"
    }
   ],
   "source": [
    "compras2"
   ]
  },
  {
   "cell_type": "code",
   "execution_count": 62,
   "id": "fb8ae9f7-52cc-41be-936f-7b4cb7e91357",
   "metadata": {},
   "outputs": [
    {
     "data": {
      "text/plain": [
       "['Pêra', 'Mamão', 'Laranja']"
      ]
     },
     "execution_count": 62,
     "metadata": {},
     "output_type": "execute_result"
    }
   ],
   "source": [
    "del compras2[3]\n",
    "compras2"
   ]
  },
  {
   "cell_type": "markdown",
   "id": "849cc977-10ac-45b0-8261-91c84cf34500",
   "metadata": {},
   "source": [
    "### 4.2 Operações com listas"
   ]
  },
  {
   "cell_type": "markdown",
   "id": "eb42310d-14c0-472c-95f4-65511103485f",
   "metadata": {},
   "source": [
    "Como podemos armazenar dados de quaiquer tipo, isso inclui listas aninhadas (matrizes)."
   ]
  },
  {
   "cell_type": "code",
   "execution_count": 63,
   "id": "4250d33d-75b2-4d36-9dc1-b5c5911a1eba",
   "metadata": {},
   "outputs": [],
   "source": [
    "precos = [5, 13, 4]"
   ]
  },
  {
   "cell_type": "code",
   "execution_count": 64,
   "id": "ad52d129-1c9b-4a4e-80c2-52064514a73d",
   "metadata": {},
   "outputs": [
    {
     "data": {
      "text/plain": [
       "[['Pêra', 'Mamão', 'Laranja'], [5, 13, 4]]"
      ]
     },
     "execution_count": 64,
     "metadata": {},
     "output_type": "execute_result"
    }
   ],
   "source": [
    "compras2 = [compras2, precos]\n",
    "compras2"
   ]
  },
  {
   "cell_type": "code",
   "execution_count": 65,
   "id": "d654c7cf-108e-4fbd-b1c2-0de93942078a",
   "metadata": {},
   "outputs": [
    {
     "data": {
      "text/plain": [
       "[5, 13, 4]"
      ]
     },
     "execution_count": 65,
     "metadata": {},
     "output_type": "execute_result"
    }
   ],
   "source": [
    "compras2[1]"
   ]
  },
  {
   "cell_type": "code",
   "execution_count": 66,
   "id": "441dc46a-5ee1-4aeb-9509-a5d4d4fafdbd",
   "metadata": {},
   "outputs": [
    {
     "data": {
      "text/plain": [
       "22"
      ]
     },
     "execution_count": 66,
     "metadata": {},
     "output_type": "execute_result"
    }
   ],
   "source": [
    "# Qual valor da compra se considerarmos fruta/valor\n",
    "sum(compras2[1])"
   ]
  },
  {
   "cell_type": "markdown",
   "id": "9a2171a9-b684-4d9a-95db-50919a4a5f9c",
   "metadata": {},
   "source": [
    "### 4.3 - Funções Built-in"
   ]
  },
  {
   "cell_type": "code",
   "execution_count": 67,
   "id": "36b2539d-bbad-4320-9e63-b964a826ff91",
   "metadata": {},
   "outputs": [
    {
     "data": {
      "text/plain": [
       "2"
      ]
     },
     "execution_count": 67,
     "metadata": {},
     "output_type": "execute_result"
    }
   ],
   "source": [
    "# Comprimento da lista\n",
    "\n",
    "len(compras2)"
   ]
  },
  {
   "cell_type": "code",
   "execution_count": 68,
   "id": "27ce9019-aa63-49c1-a3b6-4147835a03db",
   "metadata": {},
   "outputs": [
    {
     "data": {
      "text/plain": [
       "3"
      ]
     },
     "execution_count": 68,
     "metadata": {},
     "output_type": "execute_result"
    }
   ],
   "source": [
    "# Comprimento da sublista 1\n",
    "\n",
    "len(compras2[0])"
   ]
  },
  {
   "cell_type": "markdown",
   "id": "f7f94646-4315-43c3-a600-728a8d44dcff",
   "metadata": {},
   "source": [
    "Perceba a mensagem de erro quando tentamos retornar o maior valor de compra. Precisamos especificar qual posição os atributos numéricos de interesse se encontram."
   ]
  },
  {
   "cell_type": "code",
   "execution_count": 69,
   "id": "792915fd-955b-4a4b-b8de-200120dd601a",
   "metadata": {},
   "outputs": [
    {
     "ename": "TypeError",
     "evalue": "'>' not supported between instances of 'int' and 'str'",
     "output_type": "error",
     "traceback": [
      "\u001b[1;31m---------------------------------------------------------------------------\u001b[0m",
      "\u001b[1;31mTypeError\u001b[0m                                 Traceback (most recent call last)",
      "Input \u001b[1;32mIn [69]\u001b[0m, in \u001b[0;36m<cell line: 1>\u001b[1;34m()\u001b[0m\n\u001b[1;32m----> 1\u001b[0m \u001b[38;5;28;43mmax\u001b[39;49m\u001b[43m(\u001b[49m\u001b[43mcompras2\u001b[49m\u001b[43m)\u001b[49m\n",
      "\u001b[1;31mTypeError\u001b[0m: '>' not supported between instances of 'int' and 'str'"
     ]
    }
   ],
   "source": [
    "max(compras2)"
   ]
  },
  {
   "cell_type": "code",
   "execution_count": 70,
   "id": "59bfd43d-2a37-4a33-aa5e-2d1934d69907",
   "metadata": {},
   "outputs": [
    {
     "data": {
      "text/plain": [
       "13"
      ]
     },
     "execution_count": 70,
     "metadata": {},
     "output_type": "execute_result"
    }
   ],
   "source": [
    "max(compras2[1])"
   ]
  },
  {
   "cell_type": "code",
   "execution_count": 71,
   "id": "6b238821-df6d-45d2-860c-f405f370ee9a",
   "metadata": {},
   "outputs": [
    {
     "data": {
      "text/plain": [
       "4"
      ]
     },
     "execution_count": 71,
     "metadata": {},
     "output_type": "execute_result"
    }
   ],
   "source": [
    "min(compras2[1])"
   ]
  },
  {
   "cell_type": "code",
   "execution_count": 72,
   "id": "e7d798cb-eae7-4c6b-b28f-24235d560564",
   "metadata": {},
   "outputs": [
    {
     "data": {
      "text/plain": [
       "[['Pêra', 'Mamão', 'Laranja', 'Maçã'], [5, 13, 4]]"
      ]
     },
     "execution_count": 72,
     "metadata": {},
     "output_type": "execute_result"
    }
   ],
   "source": [
    "# Adicionando elementos na lista\n",
    "\n",
    "compras2[0].append(\"Maçã\")\n",
    "compras2"
   ]
  },
  {
   "cell_type": "code",
   "execution_count": 73,
   "id": "85ca0a15-191a-4599-a7c8-f7e40a8f7717",
   "metadata": {},
   "outputs": [
    {
     "data": {
      "text/plain": [
       "[['Pêra', 'Mamão', 'Laranja', 'Maçã'], [5, 13, 4, 5.5]]"
      ]
     },
     "execution_count": 73,
     "metadata": {},
     "output_type": "execute_result"
    }
   ],
   "source": [
    "compras2[1].append( 5.5)\n",
    "compras2"
   ]
  },
  {
   "cell_type": "markdown",
   "id": "5b838605-65e9-4b33-8f21-51c940b00dbb",
   "metadata": {},
   "source": [
    "Caso a lista seja muito grande, podemos encontrar o índice a partir do elemento de interesse. Há outras maneiras de acessar o índice, mas fiquemos com a mais simples \"utilizando\" o índice 0:\n"
   ]
  },
  {
   "cell_type": "code",
   "execution_count": 78,
   "id": "8f06dd20-69d8-4608-9a04-e05d5a2885c2",
   "metadata": {},
   "outputs": [
    {
     "data": {
      "text/plain": [
       "3"
      ]
     },
     "execution_count": 78,
     "metadata": {},
     "output_type": "execute_result"
    }
   ],
   "source": [
    "compras2[0].index('Maçã')"
   ]
  },
  {
   "cell_type": "markdown",
   "id": "f1afa6c8-3532-4000-821e-4973384b5a94",
   "metadata": {},
   "source": [
    "Podemos, ainda, ordená-la:"
   ]
  },
  {
   "cell_type": "code",
   "execution_count": 81,
   "id": "eeb80322-e8b5-4c36-9a02-e15e2fc08ef2",
   "metadata": {},
   "outputs": [
    {
     "data": {
      "text/plain": [
       "[['Laranja', 'Mamão', 'Maçã', 'Pêra'], [5, 13, 4, 5.5]]"
      ]
     },
     "execution_count": 81,
     "metadata": {},
     "output_type": "execute_result"
    }
   ],
   "source": [
    "compras2[0].sort()\n",
    "compras2"
   ]
  },
  {
   "cell_type": "code",
   "execution_count": 84,
   "id": "c6333834-e25d-407d-8438-78bf0c3c98f9",
   "metadata": {},
   "outputs": [
    {
     "data": {
      "text/plain": [
       "[['Laranja', 'Mamão', 'Maçã', 'Pêra'], [4, 5, 5.5, 13]]"
      ]
     },
     "execution_count": 84,
     "metadata": {},
     "output_type": "execute_result"
    }
   ],
   "source": [
    "compras2[1].sort()\n",
    "compras2"
   ]
  },
  {
   "cell_type": "markdown",
   "id": "2f0e1273-ee59-45d4-8261-26d665219cd4",
   "metadata": {},
   "source": [
    "### Um extra sobre indexação\n",
    "\n",
    "Um modo muito fácil de entender indexação é através da imagem abaixo:\n",
    "\n",
    "![texto](https://jakevdp.github.io/WhirlwindTourOfPython/figures/list-indexing.png)  \n",
    "*Imagem retirada do Livro A Whirlwind Tour of Python, by Jake VanderPlas.*\n",
    "\n",
    " Os valores desta lista são representados pelos números maiores e os índices pelos números acima e abaixo."
   ]
  },
  {
   "cell_type": "code",
   "execution_count": 93,
   "id": "a2d20197-8cdc-4115-9f5a-05e310eebb24",
   "metadata": {},
   "outputs": [],
   "source": [
    "lista  =  [2, 3, 5, 7, 11]"
   ]
  },
  {
   "cell_type": "code",
   "execution_count": 94,
   "id": "afb6160c-8cdc-4c83-9c82-4407d65f0994",
   "metadata": {},
   "outputs": [
    {
     "data": {
      "text/plain": [
       "[2, 3, 5, 7]"
      ]
     },
     "execution_count": 94,
     "metadata": {},
     "output_type": "execute_result"
    }
   ],
   "source": [
    "lista[0:4]"
   ]
  },
  {
   "cell_type": "code",
   "execution_count": 86,
   "id": "c3fe2a16-a105-482d-b8cd-acdd7f7a7851",
   "metadata": {},
   "outputs": [
    {
     "data": {
      "text/plain": [
       "3"
      ]
     },
     "execution_count": 86,
     "metadata": {},
     "output_type": "execute_result"
    }
   ],
   "source": [
    "lista[-4]"
   ]
  },
  {
   "cell_type": "code",
   "execution_count": 106,
   "id": "7dcfa16b-604a-437c-924d-90c1ffb81163",
   "metadata": {},
   "outputs": [
    {
     "data": {
      "text/plain": [
       "[3, 5, 7]"
      ]
     },
     "execution_count": 106,
     "metadata": {},
     "output_type": "execute_result"
    }
   ],
   "source": [
    "lista[-4: -1]"
   ]
  },
  {
   "cell_type": "code",
   "execution_count": 108,
   "id": "393c7dee-2126-4c06-bcac-4a4e04595c35",
   "metadata": {},
   "outputs": [
    {
     "data": {
      "text/plain": [
       "[3, 7]"
      ]
     },
     "execution_count": 108,
     "metadata": {},
     "output_type": "execute_result"
    }
   ],
   "source": [
    "lista[-4 : -1 : 2]"
   ]
  },
  {
   "cell_type": "markdown",
   "id": "e47cb9a9-94ea-473a-8288-e132fff4a6c7",
   "metadata": {},
   "source": [
    "## 5 - Dicionários"
   ]
  },
  {
   "cell_type": "markdown",
   "id": "ecabf1fa-493a-4fb8-aabe-6f26142604f8",
   "metadata": {},
   "source": []
  }
 ],
 "metadata": {
  "kernelspec": {
   "display_name": "Python 3 (ipykernel)",
   "language": "python",
   "name": "python3"
  },
  "language_info": {
   "codemirror_mode": {
    "name": "ipython",
    "version": 3
   },
   "file_extension": ".py",
   "mimetype": "text/x-python",
   "name": "python",
   "nbconvert_exporter": "python",
   "pygments_lexer": "ipython3",
   "version": "3.9.12"
  }
 },
 "nbformat": 4,
 "nbformat_minor": 5
}
