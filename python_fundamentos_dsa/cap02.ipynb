{
 "cells": [
  {
   "cell_type": "markdown",
   "id": "84b89df7-cc9d-40d3-93b2-1e9c2347b61a",
   "metadata": {},
   "source": [
    "# **Variáveis, Tipos e Estruturas de Dados**"
   ]
  },
  {
   "cell_type": "markdown",
   "id": "ef8b3df9-1638-44d6-9f41-56fbda5bdbe6",
   "metadata": {},
   "source": [
    "**Funções Built-in em**: https://docs.python.org/3/library/"
   ]
  },
  {
   "cell_type": "markdown",
   "id": "80c5d4df-6be4-4a40-80e3-c0eb9431c8be",
   "metadata": {
    "jp-MarkdownHeadingCollapsed": true,
    "tags": []
   },
   "source": [
    "## 1 - Números e Operações Matemáticas"
   ]
  },
  {
   "cell_type": "markdown",
   "id": "bea22348-26ad-4606-96b3-5981b8b1bf12",
   "metadata": {},
   "source": [
    "| Operador | Significado |\n",
    "|----------|-------------|\n",
    "|+         |soma         | \n",
    "|-         |subtracao    |\n",
    "|*         |multiplicacao|\n",
    "|/         |divisao      |\n",
    "|//        |divisao_inteira| \n",
    "|%         |modulo        | \n",
    "|**        |potencia      | \n",
    "|int()     | converte para inteiro| \n",
    "|float()   |converte para float| \n"
   ]
  },
  {
   "cell_type": "code",
   "execution_count": 1,
   "id": "3560b58b-8436-4fea-a764-bc2a6671db45",
   "metadata": {},
   "outputs": [
    {
     "name": "stdout",
     "output_type": "stream",
     "text": [
      "12\n",
      "8\n",
      "20\n",
      "5.0\n",
      "5\n",
      "0\n",
      "100\n",
      "2\n",
      "10.0\n"
     ]
    }
   ],
   "source": [
    "n1 = 10\n",
    "n2 = 2\n",
    "n3 = 2.5\n",
    "\n",
    "soma = n1 + n2\n",
    "subtracao = n1 - n2\n",
    "multiplicacao = n1 * n2\n",
    "divisao = n1 / n2\n",
    "divisao_inteira = n1 // n2\n",
    "modulo = n1 % n2\n",
    "potencia = n1 ** n2\n",
    "inteiro = int(n3)\n",
    "nfloat = float(n1)\n",
    "\n",
    "print(soma) # 12\n",
    "print(subtracao) # 8\n",
    "print(multiplicacao)  # 20\n",
    "print(divisao) # 5.0\n",
    "print(divisao_inteira) # 5\n",
    "print(modulo)  # 0\n",
    "print(potencia) # 100\n",
    "print(inteiro) # 2\n",
    "print(nfloat) # 10.0"
   ]
  },
  {
   "cell_type": "markdown",
   "id": "3dcb5a4a-d97b-4a6b-8b86-1603867fecb7",
   "metadata": {
    "jp-MarkdownHeadingCollapsed": true,
    "tags": []
   },
   "source": [
    "## 2 - Variáveis, Operadores e Operações"
   ]
  },
  {
   "cell_type": "markdown",
   "id": "13637181-d981-4fb3-a524-108f947eecbb",
   "metadata": {},
   "source": [
    "| Operador | Significado |\n",
    "|----------|-------------|\n",
    "|=         |atribruição  |\n",
    "|+=        |soma         | \n",
    "|-=        |subtracao    |\n",
    "|*         |multiplicacao|\n",
    "|/         |divisao      |\n",
    "|%         |modulo       | \n",
    "|**        |potencia     |\n",
    "|//        |divisao_inteira| "
   ]
  },
  {
   "cell_type": "code",
   "execution_count": 2,
   "id": "7d7f3bae-7449-413d-b8ac-c8b589ac2e90",
   "metadata": {},
   "outputs": [
    {
     "name": "stdout",
     "output_type": "stream",
     "text": [
      "10\n",
      "20\n",
      "10\n",
      "100\n",
      "10.0\n",
      "0.0\n",
      "1000\n",
      "100\n"
     ]
    }
   ],
   "source": [
    "n0 = 10\n",
    "n = 10\n",
    "print(n) # 10 \n",
    "\n",
    "n += n0 \n",
    "print(n) # 20  n = 10+10\n",
    "\n",
    "n -= n0 \n",
    "print(10) # 10  n = 20-10\n",
    "\n",
    "n *= n0\n",
    "print(n) # 100 n = 10*10\n",
    "\n",
    "n /= n0 \n",
    "print(n) # 10.0  n = 100/10\n",
    "\n",
    "n %= n0 \n",
    "print(n) # 0.0  n = 10 % 10\n",
    "\n",
    "n = 10\n",
    "\n",
    "n **= 3 \n",
    "print(n) # 1000  n = 10**3\n",
    "\n",
    "n //= n0 \n",
    "print(n) # 100   n = 1000//10"
   ]
  },
  {
   "cell_type": "markdown",
   "id": "3d9e3d30-c04c-471a-a90a-ba910dce779c",
   "metadata": {
    "tags": []
   },
   "source": [
    "## 3 - Strings e Indexação"
   ]
  },
  {
   "cell_type": "markdown",
   "id": "8ff9ade5-245e-4d4f-8f53-9810af546ef5",
   "metadata": {},
   "source": [
    " Srings são utilizadas para gravar informações em formato textual, São uma sequência imutável de caractere(s) que permitem a manipulação atráves dos índices de cada um deles."
   ]
  },
  {
   "cell_type": "code",
   "execution_count": 11,
   "id": "572d605a-d97b-42bd-8d8a-04b5b96b4ada",
   "metadata": {},
   "outputs": [
    {
     "name": "stdout",
     "output_type": "stream",
     "text": [
      "R\n",
      "ê\n",
      "a\n"
     ]
    }
   ],
   "source": [
    "# Exemplo indexado\n",
    "\n",
    "text = 'Resiliência'\n",
    "print(text[0])\n",
    "print(text[6])\n",
    "print(text[10])"
   ]
  },
  {
   "cell_type": "markdown",
   "id": "23bb484e-f885-4203-b4ac-72de0cc0f70c",
   "metadata": {},
   "source": [
    "Podemos ainda, utilizar dois pontos para realizar slicingpara realizar leituras até determinados pontos."
   ]
  },
  {
   "cell_type": "code",
   "execution_count": 15,
   "id": "8e68bad0-7550-4581-ad3c-39b8c07b97c3",
   "metadata": {},
   "outputs": [
    {
     "data": {
      "text/plain": [
       "'Resiliência'"
      ]
     },
     "execution_count": 15,
     "metadata": {},
     "output_type": "execute_result"
    }
   ],
   "source": [
    "# Exemplo: Retornar todos os elementos\n",
    "\n",
    "text[:]"
   ]
  },
  {
   "cell_type": "code",
   "execution_count": 12,
   "id": "70731eb4-973f-4a6c-bdbb-2fff81e3cc38",
   "metadata": {},
   "outputs": [
    {
     "data": {
      "text/plain": [
       "'Res'"
      ]
     },
     "execution_count": 12,
     "metadata": {},
     "output_type": "execute_result"
    }
   ],
   "source": [
    "# Exemplo: Retornar todos os elementos até o índice 3 \n",
    "\n",
    "text[ :3]"
   ]
  },
  {
   "cell_type": "markdown",
   "id": "623710a9-17d2-4514-8ebc-77ba4f013012",
   "metadata": {},
   "source": [
    " Lembrando que é excludente, ou seja, retorna-se todas as posições imediatamente anteriores ao índice em questão."
   ]
  },
  {
   "cell_type": "code",
   "execution_count": 9,
   "id": "b30c5d74-9c0f-48e3-a42e-01a12d793f2f",
   "metadata": {},
   "outputs": [
    {
     "data": {
      "text/plain": [
       "'siliência'"
      ]
     },
     "execution_count": 9,
     "metadata": {},
     "output_type": "execute_result"
    }
   ],
   "source": [
    "# Exemplo: Retornar todos os elementos a partir do índice 2\n",
    "\n",
    "text[2: ]"
   ]
  },
  {
   "cell_type": "code",
   "execution_count": 16,
   "id": "277a01bd-b30f-4700-a0f5-bb657b33b6a0",
   "metadata": {},
   "outputs": [
    {
     "data": {
      "text/plain": [
       "'a'"
      ]
     },
     "execution_count": 16,
     "metadata": {},
     "output_type": "execute_result"
    }
   ],
   "source": [
    "# Exemplo: Retornar a última posição\n",
    "\n",
    "text[-1]"
   ]
  },
  {
   "cell_type": "code",
   "execution_count": 17,
   "id": "2b91dfe1-729c-41eb-a1e3-14c760f30cb4",
   "metadata": {},
   "outputs": [
    {
     "data": {
      "text/plain": [
       "'Resiliênci'"
      ]
     },
     "execution_count": 17,
     "metadata": {},
     "output_type": "execute_result"
    }
   ],
   "source": [
    "# Exemplo: Retornar tudo, exceto a última posição\n",
    "\n",
    "text[ :-1]"
   ]
  },
  {
   "cell_type": "markdown",
   "id": "e6f04851-30d3-471e-9705-d1bb30af18d8",
   "metadata": {},
   "source": [
    "Caso necessário - *em análise de dados por exemplo quando utilizamos Pandas para retornar grupos de linhas/colunas/linhas e colunas de um dataset* - podemos ser mais detalhistas ao especificar a frequência em que os elementos são retornados."
   ]
  },
  {
   "cell_type": "code",
   "execution_count": 21,
   "id": "53580a2e-5dd1-47aa-ae17-59a424f6df81",
   "metadata": {},
   "outputs": [
    {
     "data": {
      "text/plain": [
       "'Rslêca'"
      ]
     },
     "execution_count": 21,
     "metadata": {},
     "output_type": "execute_result"
    }
   ],
   "source": [
    "# Exemplo: Retornar todos os elementosd a cada 2 posições\n",
    "\n",
    "text[ : :2]"
   ]
  },
  {
   "cell_type": "code",
   "execution_count": 22,
   "id": "fd667d32-fc94-427f-a685-86f34e4ccb67",
   "metadata": {},
   "outputs": [
    {
     "data": {
      "text/plain": [
       "'aicnêiliseR'"
      ]
     },
     "execution_count": 22,
     "metadata": {},
     "output_type": "execute_result"
    }
   ],
   "source": [
    "# Exemplo: Retornar todos os elementos de forma invertida\n",
    "\n",
    "text[ : :-1]"
   ]
  },
  {
   "cell_type": "markdown",
   "id": "a256d927-ba90-42d4-9599-9921e8b8bf19",
   "metadata": {},
   "source": [
    " Strings são imutáveis, ou seja, não conseguimos substituir ou alterar seus elementos.\n",
    "\n",
    " **Como Python é uma linguagem orientada a objetos, as estruturas de dados possuem atributos (propriedades) e funções sendo acessadas usando ponto.**"
   ]
  },
  {
   "cell_type": "markdown",
   "id": "a0e7ae43-6072-4e07-8283-ba876d7f3ea5",
   "metadata": {},
   "source": [
    "### 3.1 - Funções Built-in"
   ]
  },
  {
   "cell_type": "code",
   "execution_count": 23,
   "id": "1ad7bc4f-a6dd-4671-8352-e55ad43e98ad",
   "metadata": {},
   "outputs": [
    {
     "data": {
      "text/plain": [
       "'RESILIÊNCIA'"
      ]
     },
     "execution_count": 23,
     "metadata": {},
     "output_type": "execute_result"
    }
   ],
   "source": [
    "# Upper Case\n",
    "text.upper()"
   ]
  },
  {
   "cell_type": "code",
   "execution_count": 24,
   "id": "fee87764-6566-495f-a392-3e4ff8938396",
   "metadata": {},
   "outputs": [
    {
     "data": {
      "text/plain": [
       "'resiliência'"
      ]
     },
     "execution_count": 24,
     "metadata": {},
     "output_type": "execute_result"
    }
   ],
   "source": [
    "# Lower Case\n",
    "text.lower()"
   ]
  },
  {
   "cell_type": "code",
   "execution_count": 51,
   "id": "ba7bfb6a-8a90-46c7-a74f-47d7bd1619cf",
   "metadata": {},
   "outputs": [
    {
     "data": {
      "text/plain": [
       "['mostre', 'seu', 'trabalho']"
      ]
     },
     "execution_count": 51,
     "metadata": {},
     "output_type": "execute_result"
    }
   ],
   "source": [
    "# Dividir por espaços em branco\n",
    "text2 = \"mostre seu trabalho \"\n",
    "text2.split()"
   ]
  },
  {
   "cell_type": "code",
   "execution_count": 37,
   "id": "342cfeb3-0c6f-4b7a-b6d6-0ab7f0ddc869",
   "metadata": {},
   "outputs": [
    {
     "data": {
      "text/plain": [
       "'Mostre seu trabalho'"
      ]
     },
     "execution_count": 37,
     "metadata": {},
     "output_type": "execute_result"
    }
   ],
   "source": [
    "# Primeira letra maiúscula\n",
    "text2.capitalize()"
   ]
  },
  {
   "cell_type": "code",
   "execution_count": 42,
   "id": "b6551691-7b08-44f4-840b-136488d37d10",
   "metadata": {},
   "outputs": [
    {
     "data": {
      "text/plain": [
       "2"
      ]
     },
     "execution_count": 42,
     "metadata": {},
     "output_type": "execute_result"
    }
   ],
   "source": [
    "# Contar quantas letras \"a\" possui\n",
    "text2.count(\"a\")"
   ]
  },
  {
   "cell_type": "code",
   "execution_count": 43,
   "id": "07c4aea7-506c-4d22-98ab-4b876d86d431",
   "metadata": {},
   "outputs": [
    {
     "data": {
      "text/plain": [
       "5"
      ]
     },
     "execution_count": 43,
     "metadata": {},
     "output_type": "execute_result"
    }
   ],
   "source": [
    "# Em qual índice encontra-se a letra \"e\"\n",
    "text2.find(\"e\")"
   ]
  },
  {
   "cell_type": "code",
   "execution_count": 44,
   "id": "b15f8b24-f794-4aec-8ee4-b070498f5f7c",
   "metadata": {},
   "outputs": [
    {
     "data": {
      "text/plain": [
       "True"
      ]
     },
     "execution_count": 44,
     "metadata": {},
     "output_type": "execute_result"
    }
   ],
   "source": [
    "# Verificar se a string é minúscula\n",
    "\n",
    "text2.islower()"
   ]
  },
  {
   "cell_type": "code",
   "execution_count": 46,
   "id": "dae5df11-3986-4915-b58b-9950c1fef74b",
   "metadata": {},
   "outputs": [
    {
     "data": {
      "text/plain": [
       "False"
      ]
     },
     "execution_count": 46,
     "metadata": {},
     "output_type": "execute_result"
    }
   ],
   "source": [
    "# Verificar se a string contém apenas espaços\n",
    "\n",
    "text2.isspace()"
   ]
  },
  {
   "cell_type": "code",
   "execution_count": 50,
   "id": "548839ce-8a95-4c9e-b478-9cbdf9e5093d",
   "metadata": {},
   "outputs": [
    {
     "data": {
      "text/plain": [
       "'mostre seu trabalho'"
      ]
     },
     "execution_count": 50,
     "metadata": {},
     "output_type": "execute_result"
    }
   ],
   "source": [
    "# Remover espaço em branco do início ou fim\n",
    "text2.strip()"
   ]
  },
  {
   "cell_type": "code",
   "execution_count": 59,
   "id": "014b2628-fd21-4220-9566-88d98db66598",
   "metadata": {},
   "outputs": [
    {
     "data": {
      "text/plain": [
       "'fostre seu trabalho '"
      ]
     },
     "execution_count": 59,
     "metadata": {},
     "output_type": "execute_result"
    }
   ],
   "source": [
    "# Substiuir um elemento por outro\n",
    "text2.replace(\"m\", \"f\")"
   ]
  },
  {
   "cell_type": "markdown",
   "id": "805bcbdb-42a1-422a-b85a-f913e298f1af",
   "metadata": {},
   "source": [
    "## 4 - Listas"
   ]
  },
  {
   "cell_type": "markdown",
   "id": "4b4ed187-424b-4a7a-be64-d775760da8fd",
   "metadata": {},
   "source": [
    "As listas fazem parte de um dos 4 tipos de dados utilizados para armazendamento de dados, sendo as outras 3: tuplas, set e dicionários. Elas são usadas para armazenar vários itens em uma única variável. Elas são mutáveis, permitindo adicionar, remover e alterar seus itens, ao contrário das strings vista na seção anterior."
   ]
  },
  {
   "cell_type": "code",
   "execution_count": 61,
   "id": "161f72e7-6b24-49a9-bd3c-b8cd10f9cdd6",
   "metadata": {},
   "outputs": [
    {
     "name": "stdout",
     "output_type": "stream",
     "text": [
      "['Abacaxi, Mamão, Laranja, Maçã']\n"
     ]
    }
   ],
   "source": [
    "# Exemplo: Criar uma lista\n",
    "compras1 = [\"Abacaxi, Mamão, Laranja, Maçã\"]\n",
    "print(compras1)"
   ]
  },
  {
   "cell_type": "code",
   "execution_count": 63,
   "id": "cf0578b3-fabe-494d-ba4f-e9fd2f3223bd",
   "metadata": {},
   "outputs": [
    {
     "name": "stdout",
     "output_type": "stream",
     "text": [
      "['Banana', 'Mamão', 'Laranja', 'Maçã']\n"
     ]
    }
   ],
   "source": [
    "compras2 = [\"Abacaxi\", \"Mamão\", \"Laranja\", \"Maçã\"]\n",
    "print(compras2)"
   ]
  },
  {
   "cell_type": "markdown",
   "id": "8f3ae94f-9cc6-4a44-986e-619897b90e7a",
   "metadata": {},
   "source": [
    "Perceba que há diferença entre compras1 e compras2, pois na primeira, considera-se apenas uma string armazenada na variável, enquanto na segunda considera-se separadamente."
   ]
  },
  {
   "cell_type": "code",
   "execution_count": null,
   "id": "5e783efd-192a-4813-ae8a-4f6e29a8f9cc",
   "metadata": {},
   "outputs": [],
   "source": []
  }
 ],
 "metadata": {
  "kernelspec": {
   "display_name": "Python 3 (ipykernel)",
   "language": "python",
   "name": "python3"
  },
  "language_info": {
   "codemirror_mode": {
    "name": "ipython",
    "version": 3
   },
   "file_extension": ".py",
   "mimetype": "text/x-python",
   "name": "python",
   "nbconvert_exporter": "python",
   "pygments_lexer": "ipython3",
   "version": "3.9.12"
  }
 },
 "nbformat": 4,
 "nbformat_minor": 5
}
